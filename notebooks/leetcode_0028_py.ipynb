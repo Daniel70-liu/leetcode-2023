{
  "nbformat": 4,
  "nbformat_minor": 0,
  "metadata": {
    "colab": {
      "provenance": []
    },
    "kernelspec": {
      "name": "python3",
      "display_name": "Python 3"
    },
    "language_info": {
      "name": "python"
    }
  },
  "cells": [
    {
      "cell_type": "markdown",
      "source": [
        "#Leetcode in Python for the problem 0028: Find the Index of the First Occurrence in a String"
      ],
      "metadata": {
        "id": "bEffA4pJ_P0_"
      }
    },
    {
      "cell_type": "markdown",
      "source": [
        "## define\n",
        "Given two strings $needle$ and $haystack$, return the index of the first occurrence of $needle$ in $haystack$, or -1 if $needle$ is not part of $haystack$."
      ],
      "metadata": {
        "id": "aC2ePj1m_g6y"
      }
    },
    {
      "cell_type": "code",
      "source": [],
      "metadata": {
        "id": "mU_mFb8UAlEb"
      },
      "execution_count": null,
      "outputs": []
    },
    {
      "cell_type": "markdown",
      "source": [
        "## Example 1:\n",
        "```\n",
        "Input: haystack = \"sadbutsad\", needle = \"sad\"\n",
        "Output: 0\n",
        "Explanation: \"sad\" occurs at index 0 and 6.\n",
        "The first occurrence is at index 0, so we return 0.\n",
        "```"
      ],
      "metadata": {
        "id": "4t9SDR7__rPv"
      }
    },
    {
      "cell_type": "markdown",
      "source": [
        "## Example 2:\n",
        "```\n",
        "Input: haystack = \"leetcode\", needle = \"leeto\"\n",
        "Output: -1\n",
        "Explanation: \"leeto\" did not occur in \"leetcode\", so we return -1.\n",
        "```"
      ],
      "metadata": {
        "id": "7YXxaIpU_u9P"
      }
    },
    {
      "cell_type": "markdown",
      "source": [
        "## Ver. 1 Solution"
      ],
      "metadata": {
        "id": "c-zUm_r8_2ea"
      }
    },
    {
      "cell_type": "code",
      "source": [
        "def strStr(haystack: str, needle: str) -> int:\n",
        "        for i in range(len(haystack) - len(needle) + 1):\n",
        "\n",
        "            if haystack[i:i+len(needle)] == needle:\n",
        "                return i\n",
        "\n",
        "        return -1\n",
        "haystack = 'vector'\n",
        "needle = 'to'\n",
        "x = strStr(haystack,needle)\n",
        "print(x)"
      ],
      "metadata": {
        "colab": {
          "base_uri": "https://localhost:8080/"
        },
        "id": "4WUC6aPK_eEa",
        "outputId": "80cea711-afdc-4220-9795-29fa34d9fdec"
      },
      "execution_count": 1,
      "outputs": [
        {
          "output_type": "stream",
          "name": "stdout",
          "text": [
            "3\n"
          ]
        }
      ]
    },
    {
      "cell_type": "markdown",
      "source": [
        "## leetcode sumit anser"
      ],
      "metadata": {
        "id": "tpUh_MhC_9jS"
      }
    },
    {
      "cell_type": "code",
      "source": [
        "class Solution:\n",
        "    def strStr(self, haystack: str, needle: str) -> int:\n",
        "        for i in range(len(haystack) - len(needle) + 1):\n",
        "\n",
        "            if haystack[i:i+len(needle)] == needle:\n",
        "                return i\n",
        "\n",
        "        return -1"
      ],
      "metadata": {
        "id": "Av6Ods7D__Cq"
      },
      "execution_count": null,
      "outputs": []
    }
  ]
}