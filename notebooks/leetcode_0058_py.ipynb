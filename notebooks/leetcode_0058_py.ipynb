{
  "nbformat": 4,
  "nbformat_minor": 0,
  "metadata": {
    "colab": {
      "provenance": []
    },
    "kernelspec": {
      "name": "python3",
      "display_name": "Python 3"
    },
    "language_info": {
      "name": "python"
    }
  },
  "cells": [
    {
      "cell_type": "markdown",
      "source": [
        "##Leetcode in Python for the problem 0058: Length of Last Word"
      ],
      "metadata": {
        "id": "VjsSIz-2Yj98"
      }
    },
    {
      "cell_type": "markdown",
      "source": [
        "## define\n",
        "Given a string $s$ consisting of words and spaces, return the length of the __last__ word in the string.\n",
        "\n",
        "A __word__ is a maximal substring consisting of non-space characters only."
      ],
      "metadata": {
        "id": "8GrNBSc2YvjT"
      }
    },
    {
      "cell_type": "markdown",
      "source": [
        "## Example 1:\n",
        "```\n",
        "Input: s = \"Hello World\"\n",
        "Output: 5\n",
        "Explanation: The last word is \"World\" with length 5.\n",
        "```"
      ],
      "metadata": {
        "id": "GIo33bHzY8Kk"
      }
    },
    {
      "cell_type": "markdown",
      "source": [
        "## Example 2:\n",
        "```\n",
        "Input: s = \"   fly me   to   the moon  \"\n",
        "Output: 4\n",
        "Explanation: The last word is \"moon\" with length 4.\n",
        "```"
      ],
      "metadata": {
        "id": "OllBg3vDY-5m"
      }
    },
    {
      "cell_type": "markdown",
      "source": [
        "## Example 3:\n",
        "```\n",
        "Input: s = \"luffy is still joyboy\"\n",
        "Output: 6\n",
        "Explanation: The last word is \"joyboy\" with length 6.\n",
        "```"
      ],
      "metadata": {
        "id": "KMWo9BqKZFvz"
      }
    },
    {
      "cell_type": "markdown",
      "source": [
        "## Ver. 1 Solution"
      ],
      "metadata": {
        "id": "8E7CeAQAZLxy"
      }
    },
    {
      "cell_type": "code",
      "source": [
        "def lengthOfLastWord(s: str):\n",
        "  strs = s.split()\n",
        "  output = len(strs[-1])\n",
        "\n",
        "  return output\n",
        "s = \"luffy is still joyboy\"\n",
        "x = lengthOfLastWord(s)\n",
        "print(x)"
      ],
      "metadata": {
        "colab": {
          "base_uri": "https://localhost:8080/"
        },
        "id": "7kV98aKmYsES",
        "outputId": "a385009e-6c58-4c40-d612-40b20fa33dca"
      },
      "execution_count": 1,
      "outputs": [
        {
          "output_type": "stream",
          "name": "stdout",
          "text": [
            "6\n"
          ]
        }
      ]
    },
    {
      "cell_type": "markdown",
      "source": [
        "## leetcode sumit anser"
      ],
      "metadata": {
        "id": "BBUW5LudZObu"
      }
    },
    {
      "cell_type": "code",
      "source": [
        "class Solution:\n",
        "    def lengthOfLastWord(self, s: str) -> int:\n",
        "        strs = s.split()\n",
        "        output = len(strs[-1])\n",
        "\n",
        "        return output"
      ],
      "metadata": {
        "id": "NoMxyCmTZRYY"
      },
      "execution_count": null,
      "outputs": []
    }
  ]
}