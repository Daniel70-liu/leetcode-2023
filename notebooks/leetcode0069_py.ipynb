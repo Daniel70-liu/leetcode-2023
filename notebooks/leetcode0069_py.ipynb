{
  "nbformat": 4,
  "nbformat_minor": 0,
  "metadata": {
    "colab": {
      "provenance": []
    },
    "kernelspec": {
      "name": "python3",
      "display_name": "Python 3"
    },
    "language_info": {
      "name": "python"
    }
  },
  "cells": [
    {
      "cell_type": "markdown",
      "source": [
        "#Leetcode in Python for the problem 0069: Sqrt(x)"
      ],
      "metadata": {
        "id": "Y03iFLTjTI-G"
      }
    },
    {
      "cell_type": "markdown",
      "source": [
        "## define\n",
        "Given a non-negative integer $x$, return the square root of $x$ rounded down to the nearest integer. The returned integer should be __non-negative__ as well.\n",
        "\n",
        "You __must not use__ any built-in exponent function or operator.\n",
        "\n",
        "For example, do not use __pow(x, 0.5)__ in c++ or __x ** 0.5__ in python."
      ],
      "metadata": {
        "id": "anJV6gESUEXX"
      }
    },
    {
      "cell_type": "markdown",
      "source": [
        "## Example 1:\n",
        "```\n",
        "Input: x = 4\n",
        "Output: 2\n",
        "Explanation: The square root of 4 is 2, so we return 2.\n",
        "```"
      ],
      "metadata": {
        "id": "aLEGLaAZUbkJ"
      }
    },
    {
      "cell_type": "markdown",
      "source": [
        "## Example 2:\n",
        "```\n",
        "Input: x = 8\n",
        "Output: 2\n",
        "Explanation: The square root of 8 is 2.82842..., and since we round it down to the nearest integer, 2 is returned.\n",
        "```"
      ],
      "metadata": {
        "id": "0yK_ZT-AUl5l"
      }
    },
    {
      "cell_type": "markdown",
      "source": [
        "## Ver. 1 Solution"
      ],
      "metadata": {
        "id": "5ZISHxgAU71m"
      }
    },
    {
      "cell_type": "code",
      "execution_count": 1,
      "metadata": {
        "colab": {
          "base_uri": "https://localhost:8080/"
        },
        "id": "ll73ErQ2-zLh",
        "outputId": "52a76785-9463-48c2-f053-d18b23c710e2"
      },
      "outputs": [
        {
          "output_type": "stream",
          "name": "stdout",
          "text": [
            "2\n"
          ]
        }
      ],
      "source": [
        "def sqrt(x):\n",
        "  if x ==0 or x ==1:\n",
        "    return x\n",
        "\n",
        "  left = 1\n",
        "  right = x\n",
        "  result = 0\n",
        "  while left<=right:\n",
        "    mid = left+(right-left)//2\n",
        "\n",
        "    if mid*mid == x:\n",
        "      return mid\n",
        "    elif mid*mid < x:\n",
        "      left = mid+1\n",
        "      result = mid\n",
        "    else:\n",
        "      right = mid-1\n",
        "  return result\n",
        "x = 5\n",
        "anser = sqrt(x)\n",
        "print(anser)"
      ]
    },
    {
      "cell_type": "markdown",
      "source": [
        "## leetcode sumit anser"
      ],
      "metadata": {
        "id": "vCby6RZRU-u0"
      }
    },
    {
      "cell_type": "code",
      "source": [
        "class Solution:\n",
        "    def mySqrt(self, x: int) -> int:\n",
        "        left = 1\n",
        "        right = x\n",
        "        result = 0\n",
        "        while left<=right:\n",
        "\n",
        "            mid = left+(right-left)//2\n",
        "            if mid*mid == x:\n",
        "                return mid\n",
        "            elif mid*mid < x:\n",
        "                left = mid+1\n",
        "                result = mid\n",
        "            else:\n",
        "                right = mid-1\n",
        "\n",
        "        return result"
      ],
      "metadata": {
        "id": "wTyLyKSIVAZo"
      },
      "execution_count": 2,
      "outputs": []
    }
  ]
}