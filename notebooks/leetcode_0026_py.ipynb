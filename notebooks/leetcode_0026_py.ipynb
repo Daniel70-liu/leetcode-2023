{
  "nbformat": 4,
  "nbformat_minor": 0,
  "metadata": {
    "colab": {
      "provenance": []
    },
    "kernelspec": {
      "name": "python3",
      "display_name": "Python 3"
    },
    "language_info": {
      "name": "python"
    }
  },
  "cells": [
    {
      "cell_type": "markdown",
      "source": [
        "#Leetcode in Python for the problem 0026: Remove Duplicates from Sorted Array"
      ],
      "metadata": {
        "id": "14a8bHyKmqgn"
      }
    },
    {
      "cell_type": "markdown",
      "source": [
        "## define\n",
        "Given an integer array $nums$ sorted in __non-decreasing__ order, remove the duplicates in-place such that each unique element appears only __once__. The __relative order__ of the elements should be kept the __same__. Then return the number of unique elements in $nums$.\n",
        "\n",
        "Consider the number of unique elements of $nums$ to be $k$, to get accepted, you need to do the following things:\n",
        "\n",
        "1.Change the array $nums$ such that the first $k$ elements of $nums$ contain the unique elements in the order they were present in nums initially. The remaining elements of $nums$ are not important as well as the size of $nums$.\n",
        "\n",
        "2.Return $k$."
      ],
      "metadata": {
        "id": "Hm-P2PdImymT"
      }
    },
    {
      "cell_type": "markdown",
      "source": [
        "## Example 1:\n",
        "```\n",
        "Input: nums = [1,1,2]\n",
        "Output: 2, nums = [1,2,_]\n",
        "Explanation: Your function should return k = 2, with the first two elements of nums being 1 and 2 respectively.\n",
        "It does not matter what you leave beyond the returned k (hence they are underscores).\n",
        "```"
      ],
      "metadata": {
        "id": "MsEPgNo3oNun"
      }
    },
    {
      "cell_type": "markdown",
      "source": [
        "## Example 2:\n",
        "```\n",
        "Input: nums = [0,0,1,1,1,2,2,3,3,4]\n",
        "Output: 5, nums = [0,1,2,3,4,_,_,_,_,_]\n",
        "Explanation: Your function should return k = 5, with the first five elements of nums being 0, 1, 2, 3, and 4 respectively.\n",
        "It does not matter what you leave beyond the returned k (hence they are underscores).\n",
        "```"
      ],
      "metadata": {
        "id": "bRHDySSCpCyI"
      }
    },
    {
      "cell_type": "markdown",
      "source": [
        "## Ver. 1 Solution"
      ],
      "metadata": {
        "id": "UR6HzGl7pgSY"
      }
    },
    {
      "cell_type": "code",
      "source": [
        "\n",
        "def removeDuplicates(nums) -> int:\n",
        "  x_index = 0 #設定第0個唯一 [1,1,2]\n",
        "\n",
        "  for i in range(1,len(nums)):\n",
        "    if nums[x_index] != nums[i]:\n",
        "      x_index +=1\n",
        "      nums[x_index] = nums[i]\n",
        "\n",
        "  return x_index+1\n",
        "\n",
        "nums = [1,1,3,4,5]\n",
        "x = removeDuplicates(nums)\n",
        "print(x)"
      ],
      "metadata": {
        "colab": {
          "base_uri": "https://localhost:8080/"
        },
        "id": "BxXI5P23myFV",
        "outputId": "7513ba7e-df3b-4292-c32f-c3cb02f4cbf2"
      },
      "execution_count": 3,
      "outputs": [
        {
          "output_type": "stream",
          "name": "stdout",
          "text": [
            "4\n"
          ]
        }
      ]
    },
    {
      "cell_type": "markdown",
      "source": [
        "## leetcode sumit anser"
      ],
      "metadata": {
        "id": "EL-1EO-3pkND"
      }
    },
    {
      "cell_type": "code",
      "source": [
        "class Solution:\n",
        "    def removeDuplicates(self, nums: List[int]) -> int:\n",
        "\n",
        "        x_index = 0\n",
        "\n",
        "        for i in range(1, len(nums)):\n",
        "            if nums[i] != nums[x_index]:\n",
        "                x_index += 1\n",
        "                nums[x_index] = nums[i]\n",
        "\n",
        "        return x_index + 1"
      ],
      "metadata": {
        "id": "D0haiYGkpkm1"
      },
      "execution_count": null,
      "outputs": []
    }
  ]
}