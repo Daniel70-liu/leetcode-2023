{
  "nbformat": 4,
  "nbformat_minor": 0,
  "metadata": {
    "colab": {
      "provenance": []
    },
    "kernelspec": {
      "name": "python3",
      "display_name": "Python 3"
    },
    "language_info": {
      "name": "python"
    }
  },
  "cells": [
    {
      "cell_type": "markdown",
      "source": [
        "#Leetcode in Python for the problem 0020: Valid Parentheses\n"
      ],
      "metadata": {
        "id": "Q997OBPbXt77"
      }
    },
    {
      "cell_type": "markdown",
      "source": [
        "## define\n",
        "Given a string s containing just the characters '(', ')', '{', '}', '[' and ']', determine if the input string is valid.\n",
        "\n",
        "An input string is valid if:\n",
        "\n",
        "1.Open brackets must be closed by the same type of brackets.\n",
        "\n",
        "2.Open brackets must be closed in the correct order.\n",
        "\n",
        "3.Every close bracket has a corresponding open bracket of the same type."
      ],
      "metadata": {
        "id": "zU-88KO-X2d8"
      }
    },
    {
      "cell_type": "markdown",
      "source": [
        "## Example 1:\n",
        "```\n",
        "Input: s = \"()\"\n",
        "Output: true\n",
        "```"
      ],
      "metadata": {
        "id": "a-GusYaRYePE"
      }
    },
    {
      "cell_type": "markdown",
      "source": [
        "## Example 2:\n",
        "```\n",
        "Input: s = \"(]\"\n",
        "Output: false\n",
        "```"
      ],
      "metadata": {
        "id": "aTtP6clOYjDi"
      }
    },
    {
      "cell_type": "markdown",
      "source": [
        "## Ver. 1 Solution"
      ],
      "metadata": {
        "id": "Mlb5qwI1YryU"
      }
    },
    {
      "cell_type": "code",
      "source": [
        "def isValid(s: str) -> bool:\n",
        "      stack = []\n",
        "      dict_ = {')':'(','}':'{',']':'['}\n",
        "      for i in s:\n",
        "        if i in dict_.values():\n",
        "          stack.append(i)\n",
        "        elif i in dict_.keys():\n",
        "          if not stack or stack.pop()!=dict_[i]:\n",
        "            return False\n",
        "        else:\n",
        "          return False\n",
        "      return not stack\n",
        "strs = '()['\n",
        "x = isValid(strs)\n",
        "print(x)"
      ],
      "metadata": {
        "colab": {
          "base_uri": "https://localhost:8080/"
        },
        "id": "e_x_0Q_ZhZDD",
        "outputId": "20fec6a4-8584-4662-90d8-521fcc4732cc"
      },
      "execution_count": 22,
      "outputs": [
        {
          "output_type": "stream",
          "name": "stdout",
          "text": [
            "False\n"
          ]
        }
      ]
    },
    {
      "cell_type": "code",
      "source": [
        "from sys import set_asyncgen_hooks\n",
        "class Solution:\n",
        "    def isValid(self, s: str) -> bool:\n",
        "      stack = []\n",
        "      dict_ = {')':'(','}':'{',']':'['}\n",
        "      for i in s:\n",
        "        if i in dict_.values():\n",
        "          stack.append(i)\n",
        "        elif i in dict_.keys():\n",
        "          if not stack or stack.pop()!=dict_[i]:\n",
        "            return False\n",
        "        else:\n",
        "          return False\n",
        "\n",
        "      return not stack\n",
        ""
      ],
      "metadata": {
        "id": "9ZkdM4XLX1eR"
      },
      "execution_count": 12,
      "outputs": []
    }
  ]
}