{
  "nbformat": 4,
  "nbformat_minor": 0,
  "metadata": {
    "colab": {
      "provenance": []
    },
    "kernelspec": {
      "name": "python3",
      "display_name": "Python 3"
    },
    "language_info": {
      "name": "python"
    }
  },
  "cells": [
    {
      "cell_type": "markdown",
      "source": [
        "#Leetcode in Python for the problem 0066: Plus One"
      ],
      "metadata": {
        "id": "2gZvqxXbM2r-"
      }
    },
    {
      "cell_type": "markdown",
      "source": [
        "## define\n",
        "You are given a __large integer__ represented as an integer array $digits$, where each $digits[i]$ is the $ith$ digit of the integer. The digits are ordered from most significant to least significant in left-to-right order. The large integer does not contain any leading $0$'s.\n",
        "\n",
        "Increment the large integer by one and return the resulting array of digits."
      ],
      "metadata": {
        "id": "Lri9tQkZRYUp"
      }
    },
    {
      "cell_type": "markdown",
      "source": [
        "## Example 1:\n",
        "```\n",
        "Input: digits = [1,2,3]\n",
        "Output: [1,2,4]\n",
        "Explanation: The array represents the integer 123.\n",
        "Incrementing by one gives 123 + 1 = 124.\n",
        "Thus, the result should be [1,2,4].\n",
        "```"
      ],
      "metadata": {
        "id": "TExvWPZaRgjM"
      }
    },
    {
      "cell_type": "markdown",
      "source": [
        "## Example 2:\n",
        "```\n",
        "Input: digits = [4,3,2,1]\n",
        "Output: [4,3,2,2]\n",
        "Explanation: The array represents the integer 4321.\n",
        "Incrementing by one gives 4321 + 1 = 4322.\n",
        "Thus, the result should be [4,3,2,2].\n",
        "```"
      ],
      "metadata": {
        "id": "B5CToZjuSHeH"
      }
    },
    {
      "cell_type": "markdown",
      "source": [
        "## Example 3:\n",
        "```\n",
        "Input: digits = [9]\n",
        "Output: [1,0]\n",
        "Explanation: The array represents the integer 9.\n",
        "Incrementing by one gives 9 + 1 = 10.\n",
        "Thus, the result should be [1,0].\n",
        "```"
      ],
      "metadata": {
        "id": "j7O9-eFaSNz1"
      }
    },
    {
      "cell_type": "markdown",
      "source": [
        "## Ver. 1 Solution"
      ],
      "metadata": {
        "id": "4SpNLEDISSwy"
      }
    },
    {
      "cell_type": "code",
      "source": [
        "def plusOne(digits):\n",
        "  carry =1\n",
        "  for i in range(len(digits)-1,-1,-1):  #[1,2,9] +1 = [1,3,0]\n",
        "   total = digits[i] +carry\n",
        "   digits[i] = total%10\n",
        "   carry = total//10\n",
        "\n",
        "  if carry:\n",
        "    digits.insert(0,carry)\n",
        "\n",
        "  return digits\n",
        "\n",
        "digits =[1,2,9]\n",
        "x = plusOne(digits)\n",
        "print(x)\n"
      ],
      "metadata": {
        "colab": {
          "base_uri": "https://localhost:8080/"
        },
        "id": "EY_buutaRXkb",
        "outputId": "4bec5ab5-bdd5-451a-8914-c34de6cec031"
      },
      "execution_count": 3,
      "outputs": [
        {
          "output_type": "stream",
          "name": "stdout",
          "text": [
            "[1, 3, 0]\n"
          ]
        }
      ]
    },
    {
      "cell_type": "markdown",
      "source": [
        "## leetcode sumit anser"
      ],
      "metadata": {
        "id": "nMHZgqxRSU6O"
      }
    },
    {
      "cell_type": "code",
      "source": [
        "class Solution:\n",
        "    def plusOne(self, digits: List[int]) -> List[int]:\n",
        "\n",
        "        carry = 1\n",
        "\n",
        "        for i in range(len(digits)-1,-1,-1):\n",
        "            total = digits[i]+carry\n",
        "            digits[i] = total%10\n",
        "            carry = total//10\n",
        "\n",
        "        if carry:\n",
        "            digits.insert(0,carry)\n",
        "\n",
        "        return digits"
      ],
      "metadata": {
        "id": "jn9ZuQ5LSYsj"
      },
      "execution_count": null,
      "outputs": []
    }
  ]
}