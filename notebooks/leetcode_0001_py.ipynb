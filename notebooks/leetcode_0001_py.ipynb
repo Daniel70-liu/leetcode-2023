{
  "nbformat": 4,
  "nbformat_minor": 0,
  "metadata": {
    "colab": {
      "provenance": []
    },
    "kernelspec": {
      "name": "python3",
      "display_name": "Python 3"
    },
    "language_info": {
      "name": "python"
    }
  },
  "cells": [
    {
      "cell_type": "markdown",
      "source": [
        "# Leetcode in Python for the problem 0001:Two Sum"
      ],
      "metadata": {
        "id": "5rc4s6rjTMYL"
      }
    },
    {
      "cell_type": "markdown",
      "source": [
        "## define\n",
        "Given an array of integers $nums$ and an integer $target$, return indices of the two numbers such that they add up to target.\n",
        "\n",
        "You may assume that each input would have __exactly one solution__, and you may not use the same element twice.\n",
        "\n",
        "You can return the answer in any order."
      ],
      "metadata": {
        "id": "EZ6xTGDlUHCV"
      }
    },
    {
      "cell_type": "markdown",
      "source": [
        "## Example 1:\n",
        "```\n",
        "Input: nums = [2,7,11,15], target = 9\n",
        "Output: [0,1]\n",
        "Explanation: Because nums[0] + nums[1] == 9, we return [0, 1].\n",
        "```"
      ],
      "metadata": {
        "id": "ERAGkr-rVFRU"
      }
    },
    {
      "cell_type": "markdown",
      "source": [
        "## Ver. 1 Solution\n"
      ],
      "metadata": {
        "id": "sJnmXQ2EWhVq"
      }
    },
    {
      "cell_type": "code",
      "source": [
        "nums = [2,7,11,15]\n",
        "target = 9"
      ],
      "metadata": {
        "id": "hu00kplDWngz"
      },
      "execution_count": 2,
      "outputs": []
    },
    {
      "cell_type": "code",
      "source": [
        "for i in range(len(nums)-1):\n",
        "  for j in range(i+1,len(nums)):\n",
        "    if(nums[i]+nums[j]==target):\n",
        "      #return [i,j]\n",
        "      print([i,j])"
      ],
      "metadata": {
        "id": "QIBJVMiLake7"
      },
      "execution_count": null,
      "outputs": []
    },
    {
      "cell_type": "markdown",
      "source": [
        "## Ver. 2 Solution"
      ],
      "metadata": {
        "id": "nShYKLXEborT"
      }
    },
    {
      "cell_type": "markdown",
      "source": [
        "$target - nums[i]$ must equal to $num[j]$"
      ],
      "metadata": {
        "id": "htUwP20VbvwK"
      }
    },
    {
      "cell_type": "code",
      "source": [
        "nums = [2,7,11,15]\n",
        "target = 9\n",
        "dic = dict()\n",
        "\n",
        "for i in range(len(nums)):\n",
        "  dic[nums[i]]=i\n",
        "for i in range(len(nums)-1):\n",
        "  a = nums[i]\n",
        "  b = target - a\n",
        "  if b in dic.keys():\n",
        "    if dic[b] > i:\n",
        "      print([i,dic[b]])"
      ],
      "metadata": {
        "colab": {
          "base_uri": "https://localhost:8080/",
          "height": 0
        },
        "id": "0I8LDzkzbsA5",
        "outputId": "dea118b5-a8f1-4fb8-d412-bae50c7dac5a"
      },
      "execution_count": 12,
      "outputs": [
        {
          "output_type": "stream",
          "name": "stdout",
          "text": [
            "[0, 1]\n"
          ]
        }
      ]
    }
  ]
}