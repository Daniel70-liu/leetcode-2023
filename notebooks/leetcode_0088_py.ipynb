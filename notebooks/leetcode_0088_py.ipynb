{
  "nbformat": 4,
  "nbformat_minor": 0,
  "metadata": {
    "colab": {
      "provenance": []
    },
    "kernelspec": {
      "name": "python3",
      "display_name": "Python 3"
    },
    "language_info": {
      "name": "python"
    }
  },
  "cells": [
    {
      "cell_type": "markdown",
      "source": [
        "#Leetcode in Python for the problem 0088: Merge Sorted Array"
      ],
      "metadata": {
        "id": "C2-XdG-Z9EjU"
      }
    },
    {
      "cell_type": "markdown",
      "source": [
        "## define\n",
        "You are given two integer arrays $nums1$ and $nums2$, sorted in __non-decreasing__ order, and two integers $m$ and $n$, representing the number of elements in $nums1$ and $nums2$ respectively.\n",
        "\n",
        "__Merge__ $nums1$ and $nums2$ into a single array sorted in __non-decreasing__ order.\n",
        "\n",
        "The final sorted array should not be returned by the function, but instead be stored inside the array $nums1$. To accommodate this, $nums1$ has a length of m + n, where the first $m$ elements denote the elements that should be merged, and the last $n$ elements are set to 0 and should be ignored. $nums2$ has a length of $n$.\n"
      ],
      "metadata": {
        "id": "i2h6S3Kd6cHz"
      }
    },
    {
      "cell_type": "markdown",
      "source": [
        "## Example 1:\n",
        "```\n",
        "Input: nums1 = [1,2,3,0,0,0], m = 3, nums2 = [2,5,6], n = 3\n",
        "Output: [1,2,2,3,5,6]\n",
        "Explanation: The arrays we are merging are [1,2,3] and [2,5,6].\n",
        "The result of the merge is [1,2,2,3,5,6] with the underlined elements coming from nums1.\n",
        "```"
      ],
      "metadata": {
        "id": "sV2v77-j7LY0"
      }
    },
    {
      "cell_type": "markdown",
      "source": [
        "## Example 2:\n",
        "```\n",
        "Input: nums1 = [1], m = 1, nums2 = [], n = 0\n",
        "Output: [1]\n",
        "Explanation: The arrays we are merging are [1] and [].\n",
        "The result of the merge is [1].\n",
        "```"
      ],
      "metadata": {
        "id": "Nj3mcId37TBb"
      }
    },
    {
      "cell_type": "markdown",
      "source": [
        "## Example 3:\n",
        "```\n",
        "Input: nums1 = [0], m = 0, nums2 = [1], n = 1\n",
        "Output: [1]\n",
        "Explanation: The arrays we are merging are [] and [1].\n",
        "The result of the merge is [1].\n",
        "Note that because m = 0, there are no elements in nums1. The 0 is only there to ensure the merge result can fit in nums1.\n",
        "```"
      ],
      "metadata": {
        "id": "ZpJBG4xw7kOE"
      }
    },
    {
      "cell_type": "markdown",
      "source": [
        "## leetcode sumit anser"
      ],
      "metadata": {
        "id": "HoC6teJX7rID"
      }
    },
    {
      "cell_type": "code",
      "source": [
        "class Solution:\n",
        "    def merge(self, nums1: List[int], m: int, nums2: List[int], n: int) -> None:\n",
        "        \"\"\"\n",
        "        Do not return anything, modify nums1 in-place instead.\n",
        "        \"\"\"\n",
        "        nums1[m:] = nums2\n",
        "        nums1.sort()\n",
        "\n",
        "        return nums1"
      ],
      "metadata": {
        "id": "R8Q_QeVi6bfk"
      },
      "execution_count": null,
      "outputs": []
    }
  ]
}