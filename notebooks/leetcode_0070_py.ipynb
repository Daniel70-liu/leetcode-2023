{
  "nbformat": 4,
  "nbformat_minor": 0,
  "metadata": {
    "colab": {
      "provenance": []
    },
    "kernelspec": {
      "name": "python3",
      "display_name": "Python 3"
    },
    "language_info": {
      "name": "python"
    }
  },
  "cells": [
    {
      "cell_type": "markdown",
      "source": [
        "#Leetcode in Python for the problem 0070: Climbing Stairs"
      ],
      "metadata": {
        "id": "1fgPnXSGTNtC"
      }
    },
    {
      "cell_type": "markdown",
      "source": [
        "##define\n",
        "You are climbing a staircase. It takes $n$ steps to reach the top.\n",
        "\n",
        "Each time you can either climb __1__ or __2__ steps. In how many distinct ways can you climb to the top?"
      ],
      "metadata": {
        "id": "H5ZF4oUzTTp4"
      }
    },
    {
      "cell_type": "markdown",
      "source": [
        "## Example 1:\n",
        "```\n",
        "Input: n = 2\n",
        "Output: 2\n",
        "Explanation: There are two ways to climb to the top.\n",
        "1. 1 step + 1 step\n",
        "2. 2 steps\n",
        "```"
      ],
      "metadata": {
        "id": "ZVM-defTThYT"
      }
    },
    {
      "cell_type": "markdown",
      "source": [
        "## Example 2:\n",
        "```\n",
        "Input: n = 3\n",
        "Output: 3\n",
        "Explanation: There are three ways to climb to the top.\n",
        "1. 1 step + 1 step + 1 step\n",
        "2. 1 step + 2 steps\n",
        "3. 2 steps + 1 step\n",
        "```"
      ],
      "metadata": {
        "id": "6VUQv6FnTmbO"
      }
    },
    {
      "cell_type": "markdown",
      "source": [
        "## Ver. 1 Solution"
      ],
      "metadata": {
        "id": "DMke3Zo1TkdC"
      }
    },
    {
      "cell_type": "code",
      "execution_count": null,
      "metadata": {
        "colab": {
          "base_uri": "https://localhost:8080/"
        },
        "id": "cxxzJq4vFqL1",
        "outputId": "8f7be388-72d9-490e-ded0-85d6fa6029d5"
      },
      "outputs": [
        {
          "output_type": "stream",
          "name": "stdout",
          "text": [
            "5\n"
          ]
        }
      ],
      "source": [
        "def climbStairs(n: int):\n",
        "\n",
        "  if n==0 or n==1 or n==2:\n",
        "    return n\n",
        "  stack=[0,1,2]  #0,1,1,2,3,5,8\n",
        "  for i in range(3,n+1):\n",
        "    stack.append(stack[i-2]+stack[i-1])\n",
        "  result = stack[n]\n",
        "  return result\n",
        "\n",
        "n = 4\n",
        "x = climbStairs(n)\n",
        "print(x)"
      ]
    },
    {
      "cell_type": "markdown",
      "source": [
        "## leetcode sumit anser"
      ],
      "metadata": {
        "id": "hWI1j5SsTyTa"
      }
    },
    {
      "cell_type": "code",
      "source": [
        "class Solution:\n",
        "    def climbStairs(self, n: int) -> int:\n",
        "        if n==0 or n==1 or n==2:\n",
        "            return n\n",
        "        stack=[0,1,2]\n",
        "        for i in range(3,n+1):\n",
        "            stack.append(stack[i-2]+stack[i-1])\n",
        "        result = stack[n]\n",
        "        return result"
      ],
      "metadata": {
        "id": "9MWURtdkT1XP"
      },
      "execution_count": null,
      "outputs": []
    }
  ]
}