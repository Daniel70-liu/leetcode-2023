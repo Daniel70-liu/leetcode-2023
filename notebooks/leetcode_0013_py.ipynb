{
  "nbformat": 4,
  "nbformat_minor": 0,
  "metadata": {
    "colab": {
      "provenance": []
    },
    "kernelspec": {
      "name": "python3",
      "display_name": "Python 3"
    },
    "language_info": {
      "name": "python"
    }
  },
  "cells": [
    {
      "cell_type": "markdown",
      "source": [
        "# Leetcode in Python for the problem 13. Roman to Integer\n"
      ],
      "metadata": {
        "id": "CFYdDno_qT5z"
      }
    },
    {
      "cell_type": "markdown",
      "source": [
        "## define\n",
        "Roman numerals are represented by seven different symbols: $I$, $V$, $X$, $L$, $C$, $D$ and $M$.\n",
        "\n",
        "__Symbol__    =   __Value__\n",
        "\n",
        "I         =    1\n",
        "\n",
        "V         =    5\n",
        "\n",
        "X         =    10\n",
        "\n",
        "L         =    50\n",
        "\n",
        "C         =    100\n",
        "\n",
        "D         =    500\n",
        "\n",
        "M         =    1000\n",
        "\n",
        "For example, $2$ is written as $II$ in Roman numeral, just two ones added together. $12$ is written as $XII$, which is simply $X + II$. The number $27$ is written as $XXVII$, which is $XX + V + II$.\n",
        "\n",
        "Roman numerals are usually written largest to smallest from left to right. However, the numeral for four is not $IIII$. Instead, the number four is written as $IV$. Because the one is before the five we subtract it making four. The same principle applies to the number nine, which is written as $IX$.\n",
        "There are six instances where subtraction is used:\n",
        "\n",
        "$I$ can be placed before $V$ (5) and $X$ (10) to make 4 and 9.\n",
        "\n",
        "$X$ can be placed before $L$ (50) and $C$ (100) to make 40 and 90.\n",
        "\n",
        "$C$ can be placed before $D$ (500) and $M$ (1000) to make 400 and 900.\n",
        "\n",
        "Given a roman numeral, convert it to an integer."
      ],
      "metadata": {
        "id": "tDHRPrPfqbtn"
      }
    },
    {
      "cell_type": "markdown",
      "source": [
        "## Example 1:\n",
        "```\n",
        "Input: s = \"III\"\n",
        "Output: 3\n",
        "Explanation: III = 3.\n",
        "```"
      ],
      "metadata": {
        "id": "gfQUF0HrsGxw"
      }
    },
    {
      "cell_type": "markdown",
      "source": [
        "## Ver. 1 Solution"
      ],
      "metadata": {
        "id": "MkhDXajnsOdC"
      }
    },
    {
      "cell_type": "code",
      "source": [
        "def roman_to_int(s:str):\n",
        "\n",
        "    roman_dict = {\n",
        "        'I': 1,\n",
        "        'V': 5,\n",
        "        'X': 10,\n",
        "        'L': 50,\n",
        "        'C': 100,\n",
        "        'D': 500,\n",
        "        'M': 1000\n",
        "    }\n",
        "\n",
        "    total = 0\n",
        "    prev_value = 0\n",
        "    value = 0\n",
        "    for i in s[::-1]:\n",
        "      value = roman_dict[i]\n",
        "\n",
        "      if value < prev_value:\n",
        "        total -= value\n",
        "      else:\n",
        "        total += value\n",
        "\n",
        "      prev_value = value\n",
        "\n",
        "    return total\n",
        "\n",
        "x = 'III'\n",
        "anser = roman_to_int(x)\n",
        "print(anser)"
      ],
      "metadata": {
        "colab": {
          "base_uri": "https://localhost:8080/"
        },
        "id": "dO-D1f7psNtS",
        "outputId": "a59bf456-0449-459b-a4a0-f97e3a90d50d"
      },
      "execution_count": 7,
      "outputs": [
        {
          "output_type": "stream",
          "name": "stdout",
          "text": [
            "3\n"
          ]
        }
      ]
    },
    {
      "cell_type": "markdown",
      "source": [
        "## leetcode sumit anser"
      ],
      "metadata": {
        "id": "NgRu9Y2s4cIo"
      }
    },
    {
      "cell_type": "code",
      "source": [
        "class Solution:\n",
        "    def romanToInt(self,s: str)->int:\n",
        "        roman_dict ={\n",
        "            'I': 1,\n",
        "            'V': 5,\n",
        "            'X': 10,\n",
        "            'L': 50,\n",
        "            'C': 100,\n",
        "            'D': 500,\n",
        "            'M': 1000\n",
        "        }\n",
        "\n",
        "        total = 0\n",
        "        prev_value = 0\n",
        "        value = 0\n",
        "\n",
        "        for i in s[::-1]:\n",
        "            value = roman_dict[i]\n",
        "\n",
        "            if value < prev_value:\n",
        "                total -= value\n",
        "            else:\n",
        "                total += value\n",
        "\n",
        "            prev_value = value\n",
        "\n",
        "        return total\n"
      ],
      "metadata": {
        "id": "gQcVBNov4dbG"
      },
      "execution_count": null,
      "outputs": []
    }
  ]
}