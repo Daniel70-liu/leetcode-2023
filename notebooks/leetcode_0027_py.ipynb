{
  "nbformat": 4,
  "nbformat_minor": 0,
  "metadata": {
    "colab": {
      "provenance": []
    },
    "kernelspec": {
      "name": "python3",
      "display_name": "Python 3"
    },
    "language_info": {
      "name": "python"
    }
  },
  "cells": [
    {
      "cell_type": "markdown",
      "source": [
        "#Leetcode in Python for the problem 0027: Remove Element"
      ],
      "metadata": {
        "id": "egYSQNAVm9sl"
      }
    },
    {
      "cell_type": "markdown",
      "source": [
        "## define\n",
        "Given an integer array $nums$ and an integer $val$, remove all occurrences of val in $nums$ __in-place__. The order of the elements may be changed. Then return the number of elements in $nums$ which are not equal to __val__.\n",
        "\n",
        "Consider the number of elements in $nums$ which are not equal to $val$ be $k$, to get accepted, you need to do the following things:\n",
        "\n",
        "1.Change the array $nums$ such that the first $k$ elements of $nums$ contain the elements which are not equal to $val$. The remaining elements of $nums$ are not important as well as the size of $nums$.\n",
        "\n",
        "2.Return $k$."
      ],
      "metadata": {
        "id": "NBIqSclqnDfd"
      }
    },
    {
      "cell_type": "markdown",
      "source": [
        "## Example 1:\n",
        "```\n",
        "Input: nums = [3,2,2,3], val = 3\n",
        "Output: 2, nums = [2,2,_,_]\n",
        "Explanation: Your function should return k = 2, with the first two elements of nums being 2.\n",
        "It does not matter what you leave beyond the returned k (hence they are underscores).\n",
        "```"
      ],
      "metadata": {
        "id": "m5u-sv2UsZFj"
      }
    },
    {
      "cell_type": "markdown",
      "source": [
        "## Example 2:\n",
        "```\n",
        "Input: nums = [0,1,2,2,3,0,4,2], val = 2\n",
        "Output: 5, nums = [0,1,4,0,3,_,_,_]\n",
        "Explanation: Your function should return k = 5, with the first five elements of nums containing 0, 0, 1, 3, and 4.\n",
        "Note that the five elements can be returned in any order.\n",
        "It does not matter what you leave beyond the returned k (hence they are underscores).\n",
        "```"
      ],
      "metadata": {
        "id": "_Y59RKIAsgWl"
      }
    },
    {
      "cell_type": "code",
      "source": [
        "def removeElement(nums , val: int) -> int:\n",
        "\n",
        "  count = 0\n",
        "\n",
        "  for i in range (len(nums)):\n",
        "    if nums[i] != val:\n",
        "      nums[count]= nums[i]\n",
        "      count +=1\n",
        "\n",
        "  nums = nums[:count]\n",
        "\n",
        "  return count,nums\n",
        "\n",
        "nums = [1,2,3,3,2,1]\n",
        "count,nums = removeElement(nums,3)\n",
        "print(f'output={count}, nums={nums}')"
      ],
      "metadata": {
        "colab": {
          "base_uri": "https://localhost:8080/"
        },
        "id": "HaxfjrNVnC0s",
        "outputId": "441a43ca-da51-4d12-941f-8dbf04f95338"
      },
      "execution_count": 3,
      "outputs": [
        {
          "output_type": "stream",
          "name": "stdout",
          "text": [
            "output=4, nums=[1, 2, 2, 1]\n"
          ]
        }
      ]
    },
    {
      "cell_type": "markdown",
      "source": [
        "## leetcode sumit anser"
      ],
      "metadata": {
        "id": "gSX71Ff_uqZs"
      }
    },
    {
      "cell_type": "code",
      "source": [
        "class Solution:\n",
        "    def removeElement(self, nums: List[int], val: int) -> int:\n",
        "        count = 0\n",
        "\n",
        "        for i in range (len(nums)):\n",
        "            if nums[i] != val:\n",
        "                nums[count]= nums[i]\n",
        "                count +=1\n",
        "\n",
        "        return count"
      ],
      "metadata": {
        "id": "IOcJWEnuuq-l"
      },
      "execution_count": null,
      "outputs": []
    }
  ]
}