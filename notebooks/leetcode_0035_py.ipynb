{
  "nbformat": 4,
  "nbformat_minor": 0,
  "metadata": {
    "colab": {
      "provenance": []
    },
    "kernelspec": {
      "name": "python3",
      "display_name": "Python 3"
    },
    "language_info": {
      "name": "python"
    }
  },
  "cells": [
    {
      "cell_type": "markdown",
      "source": [
        "#Leetcode in Python for the problem 0035: Search Insert Position"
      ],
      "metadata": {
        "id": "veuqCkLB-PoK"
      }
    },
    {
      "cell_type": "markdown",
      "source": [
        "## define\n",
        "Given a sorted array of distinct integers and a target value, return the index if the target is found. If not, return the index where it would be if it were inserted in order.\n",
        "\n",
        "You must write an algorithm with O(log n) runtime complexity."
      ],
      "metadata": {
        "id": "KNpZI157-Z2E"
      }
    },
    {
      "cell_type": "markdown",
      "source": [
        "## Example 1:\n",
        "```\n",
        "Input: nums = [1,3,5,6], target = 5\n",
        "Output: 2\n",
        "```"
      ],
      "metadata": {
        "id": "yT7tyGoE-eTh"
      }
    },
    {
      "cell_type": "markdown",
      "source": [
        "## Example 2:\n",
        "```\n",
        "Input: nums = [1,3,5,6], target = 2\n",
        "Output: 1\n",
        "```"
      ],
      "metadata": {
        "id": "ybIIiGwn-uee"
      }
    },
    {
      "cell_type": "markdown",
      "source": [
        "## Example 3:\n",
        "```\n",
        "Input: nums = [1,3,5,6], target = 7\n",
        "Output: 4\n",
        "```"
      ],
      "metadata": {
        "id": "EVduAMOS-6Fx"
      }
    },
    {
      "cell_type": "markdown",
      "source": [
        "## Ver. 1 Solution"
      ],
      "metadata": {
        "id": "X_Bqan4U_FC4"
      }
    },
    {
      "cell_type": "code",
      "execution_count": 1,
      "metadata": {
        "id": "lfoF9OWI-Om_",
        "colab": {
          "base_uri": "https://localhost:8080/"
        },
        "outputId": "eda5d0f9-3f46-4681-e8cb-4eac6de5dd18"
      },
      "outputs": [
        {
          "output_type": "stream",
          "name": "stdout",
          "text": [
            "1\n"
          ]
        }
      ],
      "source": [
        "def searchInsert(nums,target) -> int:\n",
        "\n",
        "  left = 0\n",
        "  right = len(nums)-1     #[1,3,5,6]  target=2\n",
        "  while left <= right:\n",
        "    mid = left +(right-left)//2\n",
        "    if nums[mid]==target:\n",
        "      return mid\n",
        "    elif nums[mid]<target:\n",
        "      left = mid+1\n",
        "    else:\n",
        "      right = mid-1\n",
        "\n",
        "  return left\n",
        "\n",
        "nums = [1,3,5,6]\n",
        "target = 2\n",
        "x = searchInsert(nums,target)\n",
        "print(x)"
      ]
    },
    {
      "cell_type": "markdown",
      "source": [
        "## leetcode sumit anser"
      ],
      "metadata": {
        "id": "e0XYnLO2i5up"
      }
    },
    {
      "cell_type": "code",
      "source": [
        "class Solution:\n",
        "    def searchInsert(self, nums: List[int], target: int) -> int:\n",
        "        left = 0\n",
        "        right = len(nums)-1     #[1,3,5,6]  target=2\n",
        "\n",
        "        while left <= right:\n",
        "            mid = left +(right-left)//2\n",
        "            if nums[mid]==target:\n",
        "                return mid\n",
        "            elif nums[mid]<target:\n",
        "                left = mid+1\n",
        "            else:\n",
        "                right = mid-1\n",
        "\n",
        "        return left\n",
        ""
      ],
      "metadata": {
        "id": "Z2FAV-H3i6GV"
      },
      "execution_count": null,
      "outputs": []
    }
  ]
}