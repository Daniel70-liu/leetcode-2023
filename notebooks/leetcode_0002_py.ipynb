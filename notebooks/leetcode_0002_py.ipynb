{
  "nbformat": 4,
  "nbformat_minor": 0,
  "metadata": {
    "colab": {
      "provenance": []
    },
    "kernelspec": {
      "name": "python3",
      "display_name": "Python 3"
    },
    "language_info": {
      "name": "python"
    }
  },
  "cells": [
    {
      "cell_type": "markdown",
      "source": [
        "#Leetcode in Python for the problem 0002: Add Two Numbers\n"
      ],
      "metadata": {
        "id": "fFCfMmpBKJWd"
      }
    },
    {
      "cell_type": "markdown",
      "source": [
        "## define\n",
        "You are given two $non-empty$ linked lists representing two non-negative integers. The digits are stored in $reverse order$, and each of their nodes contains a single digit. Add the two numbers and return the sum as a linked list.\n",
        "\n",
        "You may assume the two numbers do not contain any leading zero, except the number 0 itself."
      ],
      "metadata": {
        "id": "qrNEpJvLLlMA"
      }
    },
    {
      "cell_type": "markdown",
      "source": [
        "## Example 1:\n",
        "```\n",
        "Input: l1 = [2,4,3], l2 = [5,6,4]\n",
        "\n",
        "Output: [7,0,8]\n",
        "\n",
        "Explanation: 342 + 465 = 807.\n",
        "```"
      ],
      "metadata": {
        "id": "et1t2sMqnqX_"
      }
    },
    {
      "cell_type": "markdown",
      "source": [
        "## Ver. 1 Solution"
      ],
      "metadata": {
        "id": "J3pZ9vmFn9Bw"
      }
    },
    {
      "cell_type": "code",
      "source": [
        "class ListNode:\n",
        "    def __init__(self, val=0, next=None):\n",
        "        self.val = val\n",
        "        self.next = next\n",
        "\n",
        "class Solution:\n",
        "    def addTwoNumbers(self, l1: Optional[ListNode], l2: Optional[ListNode]) -> Optional[ListNode]:\n",
        "        carry = 0  # 進位\n",
        "        dummy = ListNode()  # 創建虛擬的頭結點\n",
        "        current = dummy  # 當前節點，從虛擬頭結點開始\n",
        "\n",
        "        while l1 or l2:\n",
        "            x = l1.val if l1 else 0\n",
        "            y = l2.val if l2 else 0\n",
        "\n",
        "            _sum = carry + x + y\n",
        "            carry = _sum // 10  # 計算進位\n",
        "            current.next = ListNode(_sum % 10)  # 創建新的節點存儲當前位的結果\n",
        "            current = current.next\n",
        "\n",
        "            if l1:\n",
        "                l1 = l1.next\n",
        "            if l2:\n",
        "                l2 = l2.next\n",
        "\n",
        "        if carry > 0:\n",
        "            current.next = ListNode(carry)  # 如果仍有進位，創建一個額外的節點\n",
        "\n",
        "        return dummy.next  # 返回虛擬頭結點的下一個節點作為結果"
      ],
      "metadata": {
        "id": "3myoBNM3n8b3"
      },
      "execution_count": null,
      "outputs": []
    },
    {
      "cell_type": "markdown",
      "source": [
        "## leetcode sumit anser"
      ],
      "metadata": {
        "id": "lvm3-fb2oMud"
      }
    },
    {
      "cell_type": "code",
      "source": [
        "class Solution:\n",
        "    def addTwoNumbers(self, l1: Optional[ListNode], l2: Optional[ListNode]) -> Optional[ListNode]:\n",
        "        carry = 0\n",
        "        dummy = ListNode()\n",
        "        current = dummy\n",
        "        while l1 or l2:\n",
        "            x = l1.val if l1 else 0\n",
        "            y = l2.val if l2 else 0\n",
        "\n",
        "            _sum = carry + x + y\n",
        "            carry = _sum // 10\n",
        "            current.next = ListNode(_sum % 10)\n",
        "            current = current.next\n",
        "\n",
        "            if l1:\n",
        "                l1 = l1.next\n",
        "            if l2:\n",
        "                l2 = l2.next\n",
        "\n",
        "        if carry > 0:\n",
        "            current.next = ListNode(carry)\n",
        "\n",
        "        return dummy.next"
      ],
      "metadata": {
        "id": "5d34C9u7n2v4"
      },
      "execution_count": null,
      "outputs": []
    }
  ]
}