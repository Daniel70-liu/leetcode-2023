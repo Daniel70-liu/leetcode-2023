{
  "nbformat": 4,
  "nbformat_minor": 0,
  "metadata": {
    "colab": {
      "provenance": []
    },
    "kernelspec": {
      "name": "python3",
      "display_name": "Python 3"
    },
    "language_info": {
      "name": "python"
    }
  },
  "cells": [
    {
      "cell_type": "markdown",
      "source": [
        "#Leetcode in Python for the problem 0067: Add Binary"
      ],
      "metadata": {
        "id": "H1QL1fBz6xHJ"
      }
    },
    {
      "cell_type": "markdown",
      "source": [
        "## define\n",
        "Given two binary strings $a$ and $b$, return their sum as a binary string."
      ],
      "metadata": {
        "id": "Dh1Ip1T-65OA"
      }
    },
    {
      "cell_type": "markdown",
      "source": [
        "## Example 1:\n",
        "```\n",
        "Input: a = \"11\", b = \"1\"\n",
        "Output: \"100\"\n",
        "```"
      ],
      "metadata": {
        "id": "xBLboGde69m5"
      }
    },
    {
      "cell_type": "markdown",
      "source": [
        "## Example 2:\n",
        "```\n",
        "Input: a = \"1010\", b = \"1011\"\n",
        "Output: \"10101\"\n",
        "```"
      ],
      "metadata": {
        "id": "twrau1UM7BLh"
      }
    },
    {
      "cell_type": "markdown",
      "source": [
        "## Ver. 1 Solution"
      ],
      "metadata": {
        "id": "D3dDkNMx7IHb"
      }
    },
    {
      "cell_type": "code",
      "source": [
        "def addBinary(a: str, b: str):\n",
        "  stack = []\n",
        "\n",
        "  a = a[::-1]\n",
        "  b = b[::-1]\n",
        "  max_len = max(len(a),len(b))\n",
        "  carry = 0\n",
        "\n",
        "  for i in range(max_len):\n",
        "    bit_a = int(a[i]) if i<len(a)else 0\n",
        "    bit_b = int(b[i]) if i<len(b)else 0\n",
        "\n",
        "    bit_sum = bit_a + bit_b +carry\n",
        "    stack.append(str(bit_sum%2))\n",
        "    carry = bit_sum//2\n",
        "\n",
        "  if carry:\n",
        "    stack.append(str(carry))\n",
        "\n",
        "  result = stack[::-1]\n",
        "\n",
        "  return ''.join(result)\n",
        "\n",
        "a = \"1010\"\n",
        "b = \"1011\"\n",
        "x = addBinary(a, b)\n",
        "\n",
        "print(x)"
      ],
      "metadata": {
        "colab": {
          "base_uri": "https://localhost:8080/"
        },
        "id": "CJOdMej363HF",
        "outputId": "ffecd8b5-4f21-4e6d-841e-4c88721cc5d3"
      },
      "execution_count": null,
      "outputs": [
        {
          "output_type": "stream",
          "name": "stdout",
          "text": [
            "10101\n"
          ]
        }
      ]
    },
    {
      "cell_type": "markdown",
      "source": [
        "## leetcode sumit anser"
      ],
      "metadata": {
        "id": "C8ed0hgW9g_S"
      }
    },
    {
      "cell_type": "code",
      "source": [
        "class Solution:\n",
        "    def addBinary(self, a: str, b: str) -> str:\n",
        "        stack = []\n",
        "        a = a[::-1]\n",
        "        b = b[::-1]\n",
        "        max_len = max(len(a),len(b))\n",
        "        carry = 0\n",
        "\n",
        "        for i in range(max_len):\n",
        "            bit_a = int(a[i]) if i<len(a)else 0\n",
        "            bit_b = int(b[i]) if i<len(b)else 0\n",
        "\n",
        "            bit_sum = bit_a + bit_b +carry\n",
        "            stack.append(str(bit_sum%2))\n",
        "            carry = bit_sum//2\n",
        "\n",
        "        if carry:\n",
        "            stack.append(str(carry))\n",
        "\n",
        "        result = stack[::-1]\n",
        "\n",
        "        return ''.join(result)"
      ],
      "metadata": {
        "id": "pCP0gwNZ9jq9"
      },
      "execution_count": null,
      "outputs": []
    }
  ]
}