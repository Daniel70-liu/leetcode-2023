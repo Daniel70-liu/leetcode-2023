{
  "nbformat": 4,
  "nbformat_minor": 0,
  "metadata": {
    "colab": {
      "provenance": []
    },
    "kernelspec": {
      "name": "python3",
      "display_name": "Python 3"
    },
    "language_info": {
      "name": "python"
    }
  },
  "cells": [
    {
      "cell_type": "markdown",
      "source": [
        "#Leetcode in Python for the problem 0021: Merge Two Sorted Lists"
      ],
      "metadata": {
        "id": "RnNuHOg9mVv9"
      }
    },
    {
      "cell_type": "markdown",
      "source": [
        "## define\n",
        "You are given the heads of two sorted linked lists $list1$ and $list2$.\n",
        "\n",
        "Merge the two lists into one __sorted__ list. The list should be made by splicing together the nodes of the first two lists.\n",
        "\n",
        "Return the head of the merged linked list."
      ],
      "metadata": {
        "id": "YboDL5Q9mdQ6"
      }
    },
    {
      "cell_type": "markdown",
      "source": [
        "## Example 1:\n",
        "```\n",
        "Input: list1 = [1,2,4], list2 = [1,3,4]\n",
        "Output: [1,1,2,3,4,4]\n",
        "```"
      ],
      "metadata": {
        "id": "EbXMSf1BmrcR"
      }
    },
    {
      "cell_type": "markdown",
      "source": [
        "## Example 2:\n",
        "```\n",
        "Input: list1 = [], list2 = [0]\n",
        "Output: [0]\n",
        "```"
      ],
      "metadata": {
        "id": "Es_du5QfnGBs"
      }
    },
    {
      "cell_type": "markdown",
      "source": [
        "## Ver. 1 Solution"
      ],
      "metadata": {
        "id": "rOjisSjanaVi"
      }
    },
    {
      "cell_type": "code",
      "source": [
        "#Definition for singly-linked list.\n",
        "class ListNode:\n",
        "     def __init__(self, val=0, next=None):\n",
        "         self.val = val\n",
        "         self.next = next\n",
        "class Solution:\n",
        "    def mergeTwoLists(self, list1: Optional[ListNode], list2: Optional[ListNode]) -> Optional[ListNode]:\n",
        "      dummy = ListNode()\n",
        "      current = dummy\n",
        "\n",
        "      while list1 and list2:\n",
        "        if list1.val<=list2.val:\n",
        "          current.next = list1\n",
        "          list1 = list1.next\n",
        "        else:\n",
        "          current.next = list2\n",
        "          list2 = list2.next\n",
        "\n",
        "        current = current.next\n",
        "\n",
        "      if list1:\n",
        "        current.next = list1\n",
        "      if list2:\n",
        "        current.next = list2\n",
        "\n",
        "      return dummy.next"
      ],
      "metadata": {
        "id": "N821oKYhmcvM"
      },
      "execution_count": null,
      "outputs": []
    },
    {
      "cell_type": "markdown",
      "source": [
        "## leetcode sumit anser"
      ],
      "metadata": {
        "id": "v5sv_E4HnQD8"
      }
    },
    {
      "cell_type": "code",
      "source": [
        "# Definition for singly-linked list.\n",
        "# class ListNode:\n",
        "#     def __init__(self, val=0, next=None):\n",
        "#         self.val = val\n",
        "#         self.next = next\n",
        "class Solution:\n",
        "    def mergeTwoLists(self, list1: Optional[ListNode], list2: Optional[ListNode]) -> Optional[ListNode]:\n",
        "      dummy = ListNode()\n",
        "      current = dummy\n",
        "\n",
        "      while list1 and list2:\n",
        "        if list1.val<=list2.val:\n",
        "          current.next = list1\n",
        "          list1 = list1.next\n",
        "        else:\n",
        "          current.next = list2\n",
        "          list2 = list2.next\n",
        "\n",
        "        current = current.next\n",
        "\n",
        "      if list1:\n",
        "        current.next = list1\n",
        "      if list2:\n",
        "        current.next = list2\n",
        "\n",
        "      return dummy.next\n"
      ],
      "metadata": {
        "id": "OolhGedmnQa7"
      },
      "execution_count": null,
      "outputs": []
    }
  ]
}