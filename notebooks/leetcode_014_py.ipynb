{
  "nbformat": 4,
  "nbformat_minor": 0,
  "metadata": {
    "colab": {
      "provenance": []
    },
    "kernelspec": {
      "name": "python3",
      "display_name": "Python 3"
    },
    "language_info": {
      "name": "python"
    }
  },
  "cells": [
    {
      "cell_type": "markdown",
      "source": [
        "#Leetcode in Python for the problem 00014: Longest Common Prefix"
      ],
      "metadata": {
        "id": "4XzcnfTAq_G5"
      }
    },
    {
      "cell_type": "markdown",
      "source": [
        "## define\n",
        "Write a function to find the longest common prefix string amongst an array of strings.\n",
        "\n",
        "If there is no common prefix, return an empty string \"\".\n"
      ],
      "metadata": {
        "id": "cYhHdNSCrE6i"
      }
    },
    {
      "cell_type": "markdown",
      "source": [
        "## Example 1:\n",
        "```\n",
        "Input: strs = [\"flower\",\"flow\",\"flight\"]\n",
        "Output: \"fl\"\n",
        "\n",
        "```"
      ],
      "metadata": {
        "id": "stZR3aN5rLrt"
      }
    },
    {
      "cell_type": "markdown",
      "source": [
        "## Example 2:\n",
        "```\n",
        "Input: strs = [\"dog\",\"racecar\",\"car\"]\n",
        "Output: \"\"\n",
        "Explanation: There is no common prefix among the input strings.\n",
        "```"
      ],
      "metadata": {
        "id": "RSEW0ICQrTTo"
      }
    },
    {
      "cell_type": "markdown",
      "source": [
        "## Ver. 1 Solution"
      ],
      "metadata": {
        "id": "5JzhcH-Pre-x"
      }
    },
    {
      "cell_type": "code",
      "source": [
        "def LongestCommonPrefix(strs):\n",
        "  if not strs:\n",
        "    return \"\"\n",
        "\n",
        "  short_str = min(strs,key=len)\n",
        "\n",
        "  for i,char in enumerate(short_str):\n",
        "    for string in strs: # strs:[\"flower\",\"flow\",\"flight\"]\n",
        "      if string[i] !=char: #string[0]='f' , string[1]='l'...\n",
        "        return short_str[:i]\n",
        "  return short_str\n",
        "\n",
        "strs = [\"flower\",\"flow\",\"flight\"]\n",
        "x = LongestCommonPrefix(strs)\n",
        "print(x)"
      ],
      "metadata": {
        "colab": {
          "base_uri": "https://localhost:8080/"
        },
        "id": "ZNFggIwirER0",
        "outputId": "551e8ef7-e190-4065-b7a6-320a8c7c598c"
      },
      "execution_count": 1,
      "outputs": [
        {
          "output_type": "stream",
          "name": "stdout",
          "text": [
            "fl\n"
          ]
        }
      ]
    },
    {
      "cell_type": "markdown",
      "source": [
        "## leetcode sumit anser"
      ],
      "metadata": {
        "id": "9T8Wbj-mVny8"
      }
    },
    {
      "cell_type": "code",
      "source": [
        "def LongestCommonPrefix(strs):\n",
        "  if not strs:\n",
        "    return \"\"\n",
        "\n",
        "  short_str = min(strs,key=len)\n",
        "\n",
        "  for i,char in enumerate(short_str):\n",
        "    for string in strs:\n",
        "      if string[i] !=char:\n",
        "        return short_str[:i]\n",
        "  return short_str"
      ],
      "metadata": {
        "id": "IDQbwOuPVoO5"
      },
      "execution_count": null,
      "outputs": []
    }
  ]
}