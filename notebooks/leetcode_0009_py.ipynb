{
  "nbformat": 4,
  "nbformat_minor": 0,
  "metadata": {
    "colab": {
      "provenance": []
    },
    "kernelspec": {
      "name": "python3",
      "display_name": "Python 3"
    },
    "language_info": {
      "name": "python"
    }
  },
  "cells": [
    {
      "cell_type": "markdown",
      "source": [
        "#9. Leetcode in Python for the problem Palindrome Number\n"
      ],
      "metadata": {
        "id": "3oTFSzOh2CjH"
      }
    },
    {
      "cell_type": "markdown",
      "source": [
        "## define\n",
        "Given an integer $x$, return $true$ if $x$ is a\n",
        "__palindrome__\n",
        ", and $false$ otherwise."
      ],
      "metadata": {
        "id": "tehX7N3J2u7H"
      }
    },
    {
      "cell_type": "markdown",
      "source": [
        "## Example 1:\n",
        "```\n",
        "Input: x = 121\n",
        "Output: true\n",
        "Explanation: 121 reads as 121 from left to right and from right to left.\n",
        "```"
      ],
      "metadata": {
        "id": "jVd-21Mm24Cd"
      }
    },
    {
      "cell_type": "markdown",
      "source": [
        "## Ver. 1 Solution\n"
      ],
      "metadata": {
        "id": "F9X8PTRu3YpC"
      }
    },
    {
      "cell_type": "code",
      "source": [
        "x = -121\n",
        "x = str(x)\n",
        "if x ==x[::-1]:\n",
        "  print(\"True\")\n",
        "else:\n",
        "  print(\"False\")"
      ],
      "metadata": {
        "colab": {
          "base_uri": "https://localhost:8080/"
        },
        "id": "jm2BdFUoENnV",
        "outputId": "902cd8f6-5eaf-49db-c185-f456d8f40a53"
      },
      "execution_count": null,
      "outputs": [
        {
          "output_type": "stream",
          "name": "stdout",
          "text": [
            "False\n"
          ]
        }
      ]
    },
    {
      "cell_type": "markdown",
      "source": [
        "## leetcode sumit anser\n"
      ],
      "metadata": {
        "id": "hIZOX5vWETdc"
      }
    },
    {
      "cell_type": "code",
      "source": [
        "class Solution:\n",
        "    def isPalindrome(self, x: int) -> bool:\n",
        "        if x<0:  #小於零 如:-101\n",
        "            return False\n",
        "        x = str(x)  #轉字串\n",
        "\n",
        "        if x==x[::-1]: #判斷是否相同\n",
        "            return True\n",
        "        else:\n",
        "            return False"
      ],
      "metadata": {
        "id": "k-uMNkDc3ZaC"
      },
      "execution_count": null,
      "outputs": []
    }
  ]
}